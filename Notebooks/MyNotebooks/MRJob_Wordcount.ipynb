{
 "cells": [
  {
   "cell_type": "code",
   "execution_count": 1,
   "metadata": {
    "collapsed": true
   },
   "outputs": [],
   "source": [
    "!echo \"foo foo quux labs foo bar jimi quux jimi jimi\" > WordCount.txt\n",
    "!echo \"foo  jimi jimi\" >> WordCount.txt\n",
    "!echo \"data mining is data science\" >> WordCount.txt"
   ]
  },
  {
   "cell_type": "code",
   "execution_count": 63,
   "metadata": {
    "collapsed": false
   },
   "outputs": [
    {
     "name": "stdout",
     "output_type": "stream",
     "text": [
      "Overwriting WordCount.py\n"
     ]
    }
   ],
   "source": [
    "%%writefile WordCount.py    \n",
    "    \n",
    "from mrjob.job import MRJob\n",
    "\n",
    "\n",
    "class MRWordCountUtility(MRJob):\n",
    "\n",
    "    def __init__(self, *args, **kwargs):\n",
    "        super(MRWordCountUtility, self).__init__(*args, **kwargs)\n",
    "        self.words = 0\n",
    "\n",
    "    def mapper(self, _, line):\n",
    "        # Don't actually yield anything for each line. Instead, collect them\n",
    "        # and yield the sums when all lines have been processed. The results\n",
    "        # will be collected by the reducer.\n",
    "        self.words += sum(1 for word in line.split() if word.strip())\n",
    "\n",
    "    def mapper_final(self):\n",
    "        yield('words', self.words)\n",
    "\n",
    "    def reducer(self, key, values):\n",
    "        yield(key, sum(values))\n",
    "\n",
    "\n",
    "if __name__ == '__main__':\n",
    "    MRWordCountUtility.run()"
   ]
  },
  {
   "cell_type": "code",
   "execution_count": 64,
   "metadata": {
    "collapsed": false
   },
   "outputs": [
    {
     "name": "stdout",
     "output_type": "stream",
     "text": [
      "No configs found; falling back on auto-configuration\r\n",
      "Creating temp directory /var/folders/mq/yly0yqf16wggskk8bwchkhjmkztgr3/T/WordCount.z001gyq.20160614.204614.152227\r\n",
      "Running step 1 of 1...\r\n",
      "Streaming final output from /var/folders/mq/yly0yqf16wggskk8bwchkhjmkztgr3/T/WordCount.z001gyq.20160614.204614.152227/output...\r\n",
      "\"words\"\t18\r\n",
      "Removing temp directory /var/folders/mq/yly0yqf16wggskk8bwchkhjmkztgr3/T/WordCount.z001gyq.20160614.204614.152227...\r\n"
     ]
    }
   ],
   "source": [
    "!python WordCount.py  WordCount.txt"
   ]
  },
  {
   "cell_type": "code",
   "execution_count": 1,
   "metadata": {
    "collapsed": false
   },
   "outputs": [
    {
     "name": "stdout",
     "output_type": "stream",
     "text": [
      "Traceback (most recent call last):\r\n",
      "  File \"WordCount.py\", line 2, in <module>\r\n",
      "    from mrjob.step import MRJobStep\r\n",
      "ImportError: cannot import name 'MRJobStep'\r\n"
     ]
    }
   ],
   "source": [
    "!python WordCount.py  WordCount.txt --output-dir mrJobOutput"
   ]
  },
  {
   "cell_type": "code",
   "execution_count": null,
   "metadata": {
    "collapsed": true
   },
   "outputs": [],
   "source": []
  }
 ],
 "metadata": {
  "kernelspec": {
   "display_name": "Python 3",
   "language": "python",
   "name": "python3"
  },
  "language_info": {
   "codemirror_mode": {
    "name": "ipython",
    "version": 3
   },
   "file_extension": ".py",
   "mimetype": "text/x-python",
   "name": "python",
   "nbconvert_exporter": "python",
   "pygments_lexer": "ipython3",
   "version": "3.5.1"
  }
 },
 "nbformat": 4,
 "nbformat_minor": 0
}
